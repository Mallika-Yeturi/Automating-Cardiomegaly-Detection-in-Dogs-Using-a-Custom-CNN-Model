{
  "cells": [
    {
      "cell_type": "code",
      "execution_count": null,
      "id": "wrsSllTeJlmH",
      "metadata": {
        "colab": {
          "base_uri": "https://localhost:8080/"
        },
        "id": "wrsSllTeJlmH",
        "outputId": "98626afe-8a1d-4d18-de9b-b635e0be0489"
      },
      "outputs": [
        {
          "output_type": "stream",
          "name": "stdout",
          "text": [
            "Mounted at /content/drive\n"
          ]
        }
      ],
      "source": [
        "from google.colab import drive\n",
        "drive.mount('/content/drive')"
      ]
    },
    {
      "cell_type": "markdown",
      "id": "009e8fc2",
      "metadata": {
        "id": "009e8fc2"
      },
      "source": [
        "# 1. Build your own convolutional neural network using pytorch"
      ]
    },
    {
      "cell_type": "code",
      "source": [
        "import torch\n",
        "import torch.nn as nn\n",
        "import torch.nn.functional as F\n",
        "import torch.optim as optim\n",
        "from torchvision import datasets, transforms\n",
        "from torch.utils.data import DataLoader, Dataset\n",
        "from torchvision.io import read_image\n",
        "import os\n",
        "import pandas as pd\n",
        "from PIL import Image\n",
        "from glob import glob\n"
      ],
      "metadata": {
        "id": "y_kom_YmwfBk"
      },
      "id": "y_kom_YmwfBk",
      "execution_count": null,
      "outputs": []
    },
    {
      "cell_type": "code",
      "execution_count": null,
      "id": "133be475",
      "metadata": {
        "colab": {
          "base_uri": "https://localhost:8080/"
        },
        "id": "133be475",
        "outputId": "04da42a8-5a70-4c38-8c34-3814267c4934"
      },
      "outputs": [
        {
          "output_type": "stream",
          "name": "stdout",
          "text": [
            "CustomCNN(\n",
            "  (conv1): Conv2d(3, 32, kernel_size=(3, 3), stride=(1, 1), padding=(1, 1))\n",
            "  (conv2): Conv2d(32, 64, kernel_size=(3, 3), stride=(1, 1), padding=(1, 1))\n",
            "  (conv3): Conv2d(64, 128, kernel_size=(3, 3), stride=(1, 1), padding=(1, 1))\n",
            "  (conv4): Conv2d(128, 256, kernel_size=(3, 3), stride=(1, 1), padding=(1, 1))\n",
            "  (pool): MaxPool2d(kernel_size=2, stride=2, padding=0, dilation=1, ceil_mode=False)\n",
            "  (fc1): Linear(in_features=4096, out_features=512, bias=True)\n",
            "  (fc2): Linear(in_features=512, out_features=512, bias=True)\n",
            "  (fc3): Linear(in_features=512, out_features=256, bias=True)\n",
            "  (fc4): Linear(in_features=256, out_features=3, bias=True)\n",
            "  (relu): ReLU()\n",
            "  (dropout): Dropout(p=0.5, inplace=False)\n",
            ")\n"
          ]
        }
      ],
      "source": [
        "\n",
        "class CustomCNN(nn.Module):\n",
        "    def __init__(self, num_classes):\n",
        "        super(CustomCNN, self).__init__()\n",
        "        self.conv1 = nn.Conv2d(3, 32, kernel_size=3, padding=1)\n",
        "        self.conv2 = nn.Conv2d(32, 64, kernel_size=3, padding=1)\n",
        "        self.conv3 = nn.Conv2d(64, 128, kernel_size=3, padding=1)\n",
        "        self.conv4 = nn.Conv2d(128, 256, kernel_size=3, padding=1)\n",
        "        self.pool = nn.MaxPool2d(kernel_size=2, stride=2, padding=0)\n",
        "        self.fc1 = nn.Linear(256 * 4 * 4, 512)\n",
        "        self.fc2 = nn.Linear(512, 512)\n",
        "        self.fc3 = nn.Linear(512, 256)\n",
        "        self.fc4 = nn.Linear(256, num_classes)\n",
        "        self.relu = nn.ReLU()\n",
        "        self.dropout = nn.Dropout(0.5)\n",
        "\n",
        "    def forward(self, x):\n",
        "        x = self.relu(self.conv1(x))\n",
        "        x = self.pool(x)\n",
        "        x = self.relu(self.conv2(x))\n",
        "        x = self.pool(x)\n",
        "        x = self.relu(self.conv3(x))\n",
        "        x = self.pool(x)\n",
        "        x = self.relu(self.conv4(x))\n",
        "        x = self.pool(x)\n",
        "        x = x.view(x.size(0), -1)\n",
        "        x = self.dropout(self.relu(self.fc1(x)))\n",
        "        x = self.dropout(self.relu(self.fc2(x)))\n",
        "        x = self.dropout(self.relu(self.fc3(x)))\n",
        "        x = self.fc4(x)\n",
        "        return x\n",
        "\n",
        "model = CustomCNN(3)\n",
        "print(model)"
      ]
    },
    {
      "cell_type": "markdown",
      "id": "a0c45b84",
      "metadata": {
        "id": "a0c45b84"
      },
      "source": [
        "# 2. Train your model using dog heart dataset (you may need to use  Google Colab (or Kaggle) with GPU to train your code)\n",
        "\n",
        "### (1) use torchvision.datasets.ImageFolder for the training dataset\n",
        "### (2) use custom dataloader for test dataset (return image tensor and file name)"
      ]
    },
    {
      "cell_type": "code",
      "execution_count": null,
      "id": "50effdac",
      "metadata": {
        "id": "50effdac"
      },
      "outputs": [],
      "source": [
        "# Transformations\n",
        "transforms = transforms.Compose([\n",
        "    transforms.Resize((75, 75)),\n",
        "    transforms.ToTensor()\n",
        "])\n",
        "\n",
        "# Load training and validation datasets\n",
        "train_dataset = datasets.ImageFolder(root='/content/drive/My Drive/DogHeart/Dog_heart/Train', transform=transforms)\n",
        "val_dataset = datasets.ImageFolder(root='/content/drive/My Drive/DogHeart/Dog_heart/Valid', transform=transforms)\n",
        "\n",
        "class CustomImageDatasetLoader(Dataset):\n",
        "    def __init__(self, root_dir, transform=None):\n",
        "        self.root_dir = root_dir\n",
        "        self.transform = transform\n",
        "        self.image_paths = [os.path.join(root_dir, fname) for fname in os.listdir(root_dir) if fname.endswith(('jpg', 'jpeg', 'png'))]\n",
        "\n",
        "    def __len__(self):\n",
        "        return len(self.image_paths)\n",
        "\n",
        "    def __getitem__(self, idx):\n",
        "        img_path = self.image_paths[idx]\n",
        "        image = Image.open(img_path).convert('RGB')\n",
        "        if self.transform:\n",
        "            image = self.transform(image)\n",
        "        filename = os.path.basename(img_path)\n",
        "        return image, filename\n",
        "\n",
        "# Load the test dataset\n",
        "test_dataset = CustomImageDatasetLoader(root_dir='/content/drive/My Drive/DogHeart/Test 2', transform=transforms)\n",
        "\n",
        "# Data loaders\n",
        "batch_size = 32\n",
        "train_loader = DataLoader(train_dataset, batch_size=batch_size, shuffle=True)\n",
        "val_loader = DataLoader(val_dataset, batch_size=batch_size, shuffle=False)\n",
        "test_loader = DataLoader(test_dataset, batch_size=batch_size, shuffle=False)"
      ]
    },
    {
      "cell_type": "code",
      "execution_count": null,
      "id": "d_LlNUn7MVqH",
      "metadata": {
        "id": "d_LlNUn7MVqH"
      },
      "outputs": [],
      "source": [
        "torch.manual_seed(42)\n",
        "device = torch.device(\"cuda\" if torch.cuda.is_available() else \"cpu\")\n",
        "model.to(device)\n",
        "# Loss function and an optimizer\n",
        "criterion = nn.CrossEntropyLoss()\n",
        "optimizer = optim.Adam(model.parameters(), lr=0.001)"
      ]
    },
    {
      "cell_type": "code",
      "execution_count": null,
      "id": "SKZrN4A3MRzO",
      "metadata": {
        "colab": {
          "base_uri": "https://localhost:8080/"
        },
        "id": "SKZrN4A3MRzO",
        "outputId": "d74f0613-8df1-4bc8-d471-d8d4dac3d7c2"
      },
      "outputs": [
        {
          "output_type": "stream",
          "name": "stdout",
          "text": [
            "Epoch [1/50], Train Loss: 1.0354, Val Loss: 1.0201\n",
            "Epoch [2/50], Train Loss: 0.9879, Val Loss: 0.9846\n",
            "Epoch [3/50], Train Loss: 0.9722, Val Loss: 0.9573\n",
            "Epoch [4/50], Train Loss: 0.9208, Val Loss: 0.8369\n",
            "Epoch [5/50], Train Loss: 0.8542, Val Loss: 0.8220\n",
            "Epoch [6/50], Train Loss: 0.7827, Val Loss: 0.7233\n",
            "Epoch [7/50], Train Loss: 0.7709, Val Loss: 0.7447\n",
            "Epoch [8/50], Train Loss: 0.7446, Val Loss: 0.7193\n",
            "Epoch [9/50], Train Loss: 0.7359, Val Loss: 0.7537\n",
            "Epoch [10/50], Train Loss: 0.7128, Val Loss: 0.6785\n",
            "Epoch [11/50], Train Loss: 0.6769, Val Loss: 0.6793\n",
            "Epoch [12/50], Train Loss: 0.6851, Val Loss: 0.6587\n",
            "Epoch [13/50], Train Loss: 0.6341, Val Loss: 0.6211\n",
            "Epoch [14/50], Train Loss: 0.6079, Val Loss: 0.6400\n",
            "Epoch [15/50], Train Loss: 0.5956, Val Loss: 0.6406\n",
            "Epoch [16/50], Train Loss: 0.5913, Val Loss: 0.6697\n",
            "Epoch [17/50], Train Loss: 0.5966, Val Loss: 0.6498\n",
            "Epoch [18/50], Train Loss: 0.5509, Val Loss: 0.7038\n",
            "Epoch [19/50], Train Loss: 0.5250, Val Loss: 0.6373\n",
            "Epoch [20/50], Train Loss: 0.5283, Val Loss: 0.7182\n",
            "Epoch [21/50], Train Loss: 0.5053, Val Loss: 0.7005\n",
            "Epoch [22/50], Train Loss: 0.4670, Val Loss: 0.7187\n",
            "Epoch [23/50], Train Loss: 0.4634, Val Loss: 0.7490\n",
            "Epoch [24/50], Train Loss: 0.4424, Val Loss: 0.7234\n",
            "Epoch [25/50], Train Loss: 0.4307, Val Loss: 0.6959\n",
            "Epoch [26/50], Train Loss: 0.4038, Val Loss: 0.6634\n",
            "Epoch [27/50], Train Loss: 0.3847, Val Loss: 0.7153\n",
            "Epoch [28/50], Train Loss: 0.3539, Val Loss: 0.7308\n",
            "Epoch [29/50], Train Loss: 0.3233, Val Loss: 0.8319\n",
            "Epoch [30/50], Train Loss: 0.3152, Val Loss: 0.9639\n",
            "Epoch [31/50], Train Loss: 0.2882, Val Loss: 0.8773\n",
            "Epoch [32/50], Train Loss: 0.2789, Val Loss: 0.8285\n",
            "Epoch [33/50], Train Loss: 0.2384, Val Loss: 0.9249\n",
            "Epoch [34/50], Train Loss: 0.2337, Val Loss: 0.8857\n",
            "Epoch [35/50], Train Loss: 0.2204, Val Loss: 0.8275\n",
            "Epoch [36/50], Train Loss: 0.2122, Val Loss: 0.9943\n",
            "Epoch [37/50], Train Loss: 0.1651, Val Loss: 1.0047\n",
            "Epoch [38/50], Train Loss: 0.1749, Val Loss: 1.1168\n",
            "Epoch [39/50], Train Loss: 0.1890, Val Loss: 1.2145\n",
            "Epoch [40/50], Train Loss: 0.2262, Val Loss: 1.0097\n",
            "Epoch [41/50], Train Loss: 0.1289, Val Loss: 1.1338\n",
            "Epoch [42/50], Train Loss: 0.1509, Val Loss: 1.3028\n",
            "Epoch [43/50], Train Loss: 0.1559, Val Loss: 1.1181\n",
            "Epoch [44/50], Train Loss: 0.1193, Val Loss: 1.0747\n",
            "Epoch [45/50], Train Loss: 0.0961, Val Loss: 1.3255\n",
            "Epoch [46/50], Train Loss: 0.1166, Val Loss: 1.2405\n",
            "Epoch [47/50], Train Loss: 0.0942, Val Loss: 1.3555\n",
            "Epoch [48/50], Train Loss: 0.1310, Val Loss: 1.3367\n",
            "Epoch [49/50], Train Loss: 0.0659, Val Loss: 1.2345\n",
            "Epoch [50/50], Train Loss: 0.1019, Val Loss: 1.2588\n"
          ]
        }
      ],
      "source": [
        "num_epochs = 50\n",
        "best_val_loss = float('inf')\n",
        "\n",
        "for epoch in range(num_epochs):\n",
        "    model.train()\n",
        "    running_loss = 0.0\n",
        "    for images, labels in train_loader:\n",
        "        images = images.to(device)\n",
        "        labels = labels.to(device)\n",
        "\n",
        "        # Forward pass\n",
        "        outputs = model(images)\n",
        "        loss = criterion(outputs, labels)\n",
        "\n",
        "        # Backward and optimize\n",
        "        optimizer.zero_grad()\n",
        "        loss.backward()\n",
        "        optimizer.step()\n",
        "\n",
        "        running_loss += loss.item() * images.size(0)\n",
        "\n",
        "    epoch_loss = running_loss / len(train_loader.dataset)\n",
        "\n",
        "    # Validation\n",
        "    model.eval()\n",
        "    val_loss = 0.0\n",
        "    with torch.no_grad():\n",
        "        for images, labels in val_loader:\n",
        "            images = images.to(device)\n",
        "            labels = labels.to(device)\n",
        "\n",
        "            outputs = model(images)\n",
        "            loss = criterion(outputs, labels)\n",
        "            val_loss += loss.item() * images.size(0)\n",
        "\n",
        "    val_loss = val_loss / len(val_loader.dataset)\n",
        "\n",
        "    print(f'Epoch [{epoch + 1}/{num_epochs}], Train Loss: {epoch_loss:.4f}, Val Loss: {val_loss:.4f}')\n",
        "\n",
        "    # Save if the validation loss is the best.\n",
        "    if val_loss < best_val_loss:\n",
        "        best_val_loss = val_loss\n",
        "        torch.save(model.state_dict(), 'best_model.pt')"
      ]
    },
    {
      "cell_type": "code",
      "execution_count": null,
      "id": "vDM2vhlhOYe9",
      "metadata": {
        "id": "vDM2vhlhOYe9",
        "colab": {
          "base_uri": "https://localhost:8080/"
        },
        "outputId": "37c6141a-9054-482d-83c7-fb1ca66c257a"
      },
      "outputs": [
        {
          "output_type": "stream",
          "name": "stderr",
          "text": [
            "<ipython-input-6-df241070ce70>:1: FutureWarning: You are using `torch.load` with `weights_only=False` (the current default value), which uses the default pickle module implicitly. It is possible to construct malicious pickle data which will execute arbitrary code during unpickling (See https://github.com/pytorch/pytorch/blob/main/SECURITY.md#untrusted-models for more details). In a future release, the default value for `weights_only` will be flipped to `True`. This limits the functions that could be executed during unpickling. Arbitrary objects will no longer be allowed to be loaded via this mode unless they are explicitly allowlisted by the user via `torch.serialization.add_safe_globals`. We recommend you start setting `weights_only=True` for any use case where you don't have full control of the loaded file. Please open an issue on GitHub for any issues related to this experimental feature.\n",
            "  model.load_state_dict(torch.load('/content/best_model.pt'))\n"
          ]
        }
      ],
      "source": [
        "model.load_state_dict(torch.load('/content/best_model.pt'))\n",
        "model.eval()\n",
        "\n",
        "test_predictions = []\n",
        "image_paths = []\n",
        "with torch.no_grad():\n",
        "    for images, paths in test_loader:\n",
        "        images = images.to(device)\n",
        "        outputs = model(images)\n",
        "        _, predicted = torch.max(outputs, 1)\n",
        "        test_predictions.extend(predicted.cpu().numpy())\n",
        "        image_paths.extend(paths)\n",
        "\n",
        "# Predictions to a CSV file\n",
        "def save_predictions_to_csv(predictions, filenames, filename):\n",
        "    df = pd.DataFrame(list(zip(filenames, predictions)))\n",
        "    df.to_csv(filename, index=False, header=False)\n",
        "\n",
        "save_predictions_to_csv(test_predictions, image_paths, 'project_test_predictions.csv')"
      ]
    },
    {
      "cell_type": "markdown",
      "id": "7f63262f",
      "metadata": {
        "id": "7f63262f"
      },
      "source": [
        "# 3. Evaluate your model using the developed software"
      ]
    },
    {
      "cell_type": "markdown",
      "source": [
        "![Screenshot 2024-11-19 182714.png](data:image/png;base64,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)"
      ],
      "metadata": {
        "id": "6x7Z3isO0GQu"
      },
      "id": "6x7Z3isO0GQu"
    },
    {
      "cell_type": "markdown",
      "id": "1b5846bc",
      "metadata": {
        "id": "1b5846bc"
      },
      "source": [
        "# 4. Compare results with [RVT paper](https://www.nature.com/articles/s41598-023-50063-x). Requirement: performance is better than VGG16: 70%"
      ]
    },
    {
      "cell_type": "markdown",
      "id": "62f12835",
      "metadata": {
        "id": "62f12835"
      },
      "source": [
        "# 5. Write a four-page paper report using the shared LaTex template. Upload your paper to ResearchGate or Arxiv, and put your paper link and GitHub weight link here."
      ]
    },
    {
      "cell_type": "markdown",
      "id": "7D8qd5yOoWzk",
      "metadata": {
        "id": "7D8qd5yOoWzk"
      },
      "source": [
        "Paper Link: https://www.researchgate.net/publication/382109427_Assessing_Cardiomegaly_in_Dogs_Using_a_Simple_CNN_Model\n",
        "\n",
        "Github Weight Link: https://github.com/NikhilDeekonda77/Dog_Cardiomegaly_Assessment/blob/main/best_model.pt\n"
      ]
    },
    {
      "cell_type": "markdown",
      "id": "f476372c",
      "metadata": {
        "id": "f476372c"
      },
      "source": [
        "# 6. Grading rubric\n",
        "\n",
        "(1). Code ------- 20 points (you also need to upload your final model as a pt file)\n",
        "\n",
        "(2). Grammer ---- 20 points\n",
        "\n",
        "(3). Introduction & related work --- 10 points\n",
        "\n",
        "\n",
        "(4). Method  ---- 20 points\n",
        "\n",
        "(5). Results ---- 20 points\n",
        "\n",
        "     > = 70 % -->10 points\n",
        "     < 50 % -->0 points\n",
        "     >= 50 % & < 70% --> 0.5 point/percent\n",
        "     \n",
        "\n",
        "(6). Discussion - 10 points"
      ]
    }
  ],
  "metadata": {
    "accelerator": "TPU",
    "colab": {
      "gpuType": "V28",
      "provenance": []
    },
    "kernelspec": {
      "display_name": "Python 3",
      "name": "python3"
    },
    "language_info": {
      "codemirror_mode": {
        "name": "ipython",
        "version": 3
      },
      "file_extension": ".py",
      "mimetype": "text/x-python",
      "name": "python",
      "nbconvert_exporter": "python",
      "pygments_lexer": "ipython3",
      "version": "3.11.7"
    }
  },
  "nbformat": 4,
  "nbformat_minor": 5
}